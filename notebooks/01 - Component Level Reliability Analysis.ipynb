{
 "cells": [
  {
   "cell_type": "markdown",
   "id": "3875dec1",
   "metadata": {},
   "source": [
    "# Component Level Reliability Analysis"
   ]
  },
  {
   "cell_type": "code",
   "execution_count": 1,
   "id": "6d32824f",
   "metadata": {},
   "outputs": [],
   "source": [
    "from reliabpy.models.base import ComponentLevel\n",
    "from reliabpy.models.inference import DynamicBayesianNetwork \n",
    "\n",
    "# to change when transition matrix is working properly\n",
    "from reliabpy.readwrite.ANAST import import_DBN_input_data"
   ]
  },
  {
   "cell_type": "code",
   "execution_count": 2,
   "id": "4079bb4b",
   "metadata": {},
   "outputs": [],
   "source": [
    "inputs = import_DBN_input_data(\"C:\\\\Developments\\\\reliabpy\\\\PhD\\\\transition_matrices\\\\atm\\\\dr_OUT.mat\")\n",
    "dbn = DynamicBayesianNetwork(*inputs)"
   ]
  },
  {
   "cell_type": "code",
   "execution_count": 3,
   "id": "e0d3a98a",
   "metadata": {},
   "outputs": [],
   "source": [
    "comp = ComponentLevel(\n",
    "    id = 'weld',\n",
    "    inference_model = dbn,\n",
    "    inspection = 'normal'\n",
    ")"
   ]
  },
  {
   "cell_type": "code",
   "execution_count": 4,
   "id": "7a1bfdec",
   "metadata": {},
   "outputs": [],
   "source": [
    "lifetime = 20\n",
    "\n",
    "for t in range(lifetime):\n",
    "    comp.predict()\n",
    "    if t == 5:\n",
    "        comp.update()\n",
    "    if t == 7:\n",
    "        comp.perform_action()"
   ]
  },
  {
   "cell_type": "code",
   "execution_count": 5,
   "id": "99b33af5",
   "metadata": {},
   "outputs": [
    {
     "name": "stdout",
     "output_type": "stream",
     "text": [
      "Structural Component: weld\n",
      "+------+-----------------------+--------+--------+\n",
      "| time |          pf           | action | output |\n",
      "+------+-----------------------+--------+--------+\n",
      "|  1   | 6.000000212225132e-07 |        |        |\n",
      "|  2   | 4.360000093583949e-05 |        |        |\n",
      "|  3   | 0.0003944000054616481 |        |        |\n",
      "|  4   | 0.0015160000184550881 |        |        |\n",
      "|  5   | 0.0037821000441908836 |        |        |\n",
      "|  6   | 0.007408999837934971  |        |        |\n",
      "|  6   | 0.011188384145498276  |  PoD   |   D    |\n",
      "|  7   | 0.018665315583348274  |        |        |\n",
      "|  8   | 0.028116827830672264  |        |        |\n",
      "|  8   |          0.0          |   PR   |   s0   |\n",
      "|  9   | 6.000000212225132e-07 |        |        |\n",
      "|  10  | 4.360000093583949e-05 |        |        |\n",
      "|  11  | 0.0003944000054616481 |        |        |\n",
      "|  12  | 0.0015160000184550881 |        |        |\n",
      "|  13  | 0.0037821000441908836 |        |        |\n",
      "|  14  | 0.007408999837934971  |        |        |\n",
      "|  15  | 0.012463400140404701  |        |        |\n",
      "|  16  | 0.018946100026369095  |        |        |\n",
      "|  17  | 0.026709100231528282  |        |        |\n",
      "|  18  |  0.03557160124182701  |        |        |\n",
      "|  19  |  0.04537240043282509  |        |        |\n",
      "|  20  | 0.056010499596595764  |        |        |\n",
      "+------+-----------------------+--------+--------+\n"
     ]
    }
   ],
   "source": [
    "print(comp)"
   ]
  },
  {
   "cell_type": "code",
   "execution_count": null,
   "id": "a4e345d0",
   "metadata": {},
   "outputs": [],
   "source": []
  },
  {
   "cell_type": "code",
   "execution_count": null,
   "id": "36d760d7",
   "metadata": {},
   "outputs": [],
   "source": []
  }
 ],
 "metadata": {
  "kernelspec": {
   "display_name": "Python 3",
   "language": "python",
   "name": "python3"
  },
  "language_info": {
   "codemirror_mode": {
    "name": "ipython",
    "version": 3
   },
   "file_extension": ".py",
   "mimetype": "text/x-python",
   "name": "python",
   "nbconvert_exporter": "python",
   "pygments_lexer": "ipython3",
   "version": "3.7.10"
  }
 },
 "nbformat": 4,
 "nbformat_minor": 5
}
